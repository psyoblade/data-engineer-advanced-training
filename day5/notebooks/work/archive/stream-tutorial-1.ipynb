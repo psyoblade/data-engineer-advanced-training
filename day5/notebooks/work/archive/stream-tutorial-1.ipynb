{
 "cells": [
  {
   "cell_type": "code",
   "execution_count": 1,
   "id": "af0b5888-d68a-4abe-82e6-357ecac65b3a",
   "metadata": {},
   "outputs": [
    {
     "data": {
      "text/html": [
       "\n",
       "            <div>\n",
       "                <p><b>SparkSession - in-memory</b></p>\n",
       "                \n",
       "        <div>\n",
       "            <p><b>SparkContext</b></p>\n",
       "\n",
       "            <p><a href=\"http://bd956d76cc26:4040\">Spark UI</a></p>\n",
       "\n",
       "            <dl>\n",
       "              <dt>Version</dt>\n",
       "                <dd><code>v3.2.1</code></dd>\n",
       "              <dt>Master</dt>\n",
       "                <dd><code>local[*]</code></dd>\n",
       "              <dt>AppName</dt>\n",
       "                <dd><code>pyspark-shell</code></dd>\n",
       "            </dl>\n",
       "        </div>\n",
       "        \n",
       "            </div>\n",
       "        "
      ],
      "text/plain": [
       "<pyspark.sql.session.SparkSession at 0x7fa81211c460>"
      ]
     },
     "execution_count": 1,
     "metadata": {},
     "output_type": "execute_result"
    }
   ],
   "source": [
    "from pyspark.sql import *\n",
    "from pyspark.sql.functions import *\n",
    "from pyspark.sql.types import *\n",
    "from IPython.display import display, display_pretty, clear_output, JSON\n",
    "\n",
    "spark = (\n",
    "    SparkSession\n",
    "    .builder\n",
    "    .config(\"spark.sql.session.timeZone\", \"Asia/Seoul\")\n",
    "    .getOrCreate()\n",
    ")\n",
    "\n",
    "# 노트북에서 테이블 형태로 데이터 프레임 출력을 위한 설정을 합니다\n",
    "spark.conf.set(\"spark.sql.repl.eagerEval.enabled\", True) # display enabled\n",
    "spark.conf.set(\"spark.sql.repl.eagerEval.truncate\", 100) # display output columns size\n",
    "\n",
    "# 공통 데이터 위치\n",
    "home_jovyan = \"/home/jovyan\"\n",
    "work_data = f\"{home_jovyan}/work/data\"\n",
    "work_dir=!pwd\n",
    "work_dir = work_dir[0]\n",
    "\n",
    "# 로컬 환경 최적화\n",
    "spark.conf.set(\"spark.sql.shuffle.partitions\", 5) # the number of partitions to use when shuffling data for joins or aggregations.\n",
    "spark.conf.set(\"spark.sql.streaming.forceDeleteTempCheckpointLocation\", \"true\")\n",
    "\n",
    "# 현재 기동된 스파크 애플리케이션의 포트를 확인하기 위해 스파크 정보를 출력합니다\n",
    "spark"
   ]
  },
  {
   "cell_type": "code",
   "execution_count": 2,
   "id": "a16a583b-5684-440d-adda-61310af0b306",
   "metadata": {},
   "outputs": [],
   "source": [
    "# 스트림 테이블을 주기적으로 조회하는 함수 (name: 이름, sql: Spark SQL, iterations: 반복횟수, sleep_secs: 인터벌)\n",
    "def displayStream(name, sql, iterations, sleep_secs):\n",
    "    from time import sleep\n",
    "    i = 1\n",
    "    for x in range(iterations):\n",
    "        clear_output(wait=True)              # 출력 Cell 을 지웁니다\n",
    "        display('[' + name + '] Iteration: '+str(i)+', Query: '+sql)\n",
    "        display(spark.sql(sql))              # Spark SQL 을 수행합니다\n",
    "        sleep(sleep_secs)                    # sleep_secs 초 만큼 대기합니다\n",
    "        i += 1\n",
    "\n",
    "# 스트림 쿼리의 상태를 주기적으로 조회하는 함수 (name: 이름, query: Streaming Query, iterations: 반복횟수, sleep_secs: 인터벌)\n",
    "def displayStatus(name, query, iterations, sleep_secs):\n",
    "    from time import sleep\n",
    "    i = 1\n",
    "    for x in range(iterations):\n",
    "        clear_output(wait=True)      # Output Cell 의 내용을 지웁니다\n",
    "        display('[' + name + '] Iteration: '+str(i)+', Status: '+query.status['message'])\n",
    "        display(query.lastProgress)  # 마지막 수행된 쿼리의 상태를 출력합니다\n",
    "        sleep(sleep_secs)            # 지정된 시간(초)을 대기합니다\n",
    "        i += 1"
   ]
  },
  {
   "cell_type": "code",
   "execution_count": 3,
   "id": "52b84bf1-838f-434c-a3ce-3626304f07bf",
   "metadata": {},
   "outputs": [
    {
     "name": "stdout",
     "output_type": "stream",
     "text": [
      "root\n",
      " |-- key: binary (nullable = true)\n",
      " |-- value: binary (nullable = true)\n",
      " |-- topic: string (nullable = true)\n",
      " |-- partition: integer (nullable = true)\n",
      " |-- offset: long (nullable = true)\n",
      " |-- timestamp: timestamp (nullable = true)\n",
      " |-- timestampType: integer (nullable = true)\n",
      "\n"
     ]
    }
   ],
   "source": [
    "kafkaReader = (\n",
    "    spark\n",
    "  .readStream\n",
    "  .format(\"kafka\")\n",
    "  .option(\"kafka.bootstrap.servers\", \"kafka:9093\")\n",
    "  .option(\"subscribe\", \"movies\")\n",
    "  .option(\"startingOffsets\", \"earliest\")\n",
    "  .load()\n",
    ")\n",
    "kafkaReader.printSchema()"
   ]
  },
  {
   "cell_type": "code",
   "execution_count": 5,
   "id": "01d63352-beb4-4484-a330-e5d201a73545",
   "metadata": {},
   "outputs": [
    {
     "name": "stdout",
     "output_type": "stream",
     "text": [
      "root\n",
      " |-- key: string (nullable = true)\n",
      " |-- value: string (nullable = true)\n",
      "\n"
     ]
    }
   ],
   "source": [
    "kafkaSchema = (\n",
    "    StructType()\n",
    "    .add(StructField(\"movie\", StringType()))\n",
    "    .add(StructField(\"title\", StringType()))\n",
    "    .add(StructField(\"title_eng\", StringType()))\n",
    "    .add(StructField(\"year\", IntegerType()))\n",
    "    .add(StructField(\"grade\", StringType()))\n",
    "    .add(StructField(\"timestamp\", StringType()))\n",
    ")\n",
    "\n",
    "kafkaSelector = (\n",
    "    kafkaReader\n",
    "    .select(\n",
    "        col(\"key\").cast(\"string\"),\n",
    "        from_json(col(\"value\").cast(\"string\"), kafkaSchema).alias(\"movies\")\n",
    "    )\n",
    "    .selectExpr(\"movies.movie as key\", \"to_json(struct(movies.*)) as value\")\n",
    ")\n",
    "\n",
    "kafkaSelector.printSchema()"
   ]
  },
  {
   "cell_type": "code",
   "execution_count": 6,
   "id": "1eb7dabe-f902-44fd-8fcb-6221de207ea9",
   "metadata": {},
   "outputs": [],
   "source": [
    "queryName = \"consoleSink\"\n",
    "kafkaWriter = (\n",
    "    kafkaSelector.select(\"key\", \"value\")\n",
    "    .writeStream\n",
    "    .queryName(queryName)\n",
    "    .format(\"memory\")\n",
    "    .outputMode(\"append\")\n",
    ")"
   ]
  },
  {
   "cell_type": "code",
   "execution_count": 7,
   "id": "23db13dc-f499-4b76-84b0-18a25cd47ea3",
   "metadata": {},
   "outputs": [],
   "source": [
    "checkpointLocation = f\"{work_dir}/tmp/{queryName}\"\n",
    "!rm -rf $checkpointLocation"
   ]
  },
  {
   "cell_type": "code",
   "execution_count": 8,
   "id": "8b258360-86c6-4606-a805-a2e68ac583cd",
   "metadata": {},
   "outputs": [
    {
     "data": {
      "text/plain": [
       "'[consoleSink] Iteration: 3, Query: select * from consoleSink order by key desc'"
      ]
     },
     "metadata": {},
     "output_type": "display_data"
    },
    {
     "data": {
      "text/html": [
       "<table border='1'>\n",
       "<tr><th>key</th><th>value</th></tr>\n",
       "<tr><td>10099</td><td>{&quot;movie&quot;:&quot;10099&quot;,&quot;title&quot;:&quot;남과 여&quot;,&quot;title_eng&quot;:&quot;Un Homme Et Une Femme , A Man And A Woman , 1966&quot;,&quot;y...</td></tr>\n",
       "<tr><td>10098</td><td>{&quot;movie&quot;:&quot;10098&quot;,&quot;title&quot;:&quot;자유의 댄스&quot;,&quot;title_eng&quot;:&quot;Footloose , 1984&quot;,&quot;year&quot;:0,&quot;grade&quot;:&quot;PG&quot;,&quot;timestamp...</td></tr>\n",
       "<tr><td>10097</td><td>{&quot;movie&quot;:&quot;10097&quot;,&quot;title&quot;:&quot;굿모닝 베트남&quot;,&quot;title_eng&quot;:&quot;Good Morning, Vietnam , 1987&quot;,&quot;year&quot;:0,&quot;grade&quot;:&quot;1...</td></tr>\n",
       "<tr><td>10096</td><td>{&quot;movie&quot;:&quot;10096&quot;,&quot;title&quot;:&quot;고스트버스터즈 2&quot;,&quot;title_eng&quot;:&quot;Ghostbusters II , 1989&quot;,&quot;year&quot;:1990,&quot;grade&quot;:&quot;PG...</td></tr>\n",
       "<tr><td>10095</td><td>{&quot;movie&quot;:&quot;10095&quot;,&quot;title&quot;:&quot;고스트버스터즈&quot;,&quot;title_eng&quot;:&quot;Ghostbusters , 1984&quot;,&quot;year&quot;:1984,&quot;grade&quot;:&quot;12세 관람가...</td></tr>\n",
       "<tr><td>10094</td><td>{&quot;movie&quot;:&quot;10094&quot;,&quot;title&quot;:&quot;마이 웨이&quot;,&quot;title_eng&quot;:&quot;The Winners , My Way , 1975&quot;,&quot;year&quot;:1979,&quot;grade&quot;:&quot;N...</td></tr>\n",
       "<tr><td>10093</td><td>{&quot;movie&quot;:&quot;10093&quot;,&quot;title&quot;:&quot;러브 스토리&quot;,&quot;title_eng&quot;:&quot;Love Story , 1970&quot;,&quot;year&quot;:1971,&quot;grade&quot;:&quot;15세 관람가&quot;,&quot;...</td></tr>\n",
       "<tr><td>10092</td><td>{&quot;movie&quot;:&quot;10092&quot;,&quot;title&quot;:&quot;네버엔딩 스토리&quot;,&quot;title_eng&quot;:&quot;The NeverEnding Story , 1984&quot;,&quot;year&quot;:1988,&quot;grade...</td></tr>\n",
       "<tr><td>10091</td><td>{&quot;movie&quot;:&quot;10091&quot;,&quot;title&quot;:&quot;네 멋대로 해라&quot;,&quot;title_eng&quot;:&quot;A Bout De Souffle , Breathless , 1959&quot;,&quot;year&quot;:0,...</td></tr>\n",
       "<tr><td>10090</td><td>{&quot;movie&quot;:&quot;10090&quot;,&quot;title&quot;:&quot;챔프&quot;,&quot;title_eng&quot;:&quot;The Champ , 1979&quot;,&quot;year&quot;:1979,&quot;grade&quot;:&quot;NR&quot;,&quot;timestamp&quot;...</td></tr>\n",
       "<tr><td>10089</td><td>{&quot;movie&quot;:&quot;10089&quot;,&quot;title&quot;:&quot;그리스&quot;,&quot;title_eng&quot;:&quot;Grease , 1978&quot;,&quot;year&quot;:1980,&quot;grade&quot;:&quot;12세 관람가&quot;,&quot;timesta...</td></tr>\n",
       "<tr><td>10088</td><td>{&quot;movie&quot;:&quot;10088&quot;,&quot;title&quot;:&quot;파이어폭스&quot;,&quot;title_eng&quot;:&quot;Firefox , 1982&quot;,&quot;year&quot;:1983,&quot;grade&quot;:&quot;12세 관람가&quot;,&quot;time...</td></tr>\n",
       "<tr><td>10087</td><td>{&quot;movie&quot;:&quot;10087&quot;,&quot;title&quot;:&quot;토요일 밤의 열기&quot;,&quot;title_eng&quot;:&quot;Saturday Night Fever , 1977&quot;,&quot;year&quot;:1978,&quot;grade...</td></tr>\n",
       "<tr><td>10086</td><td>{&quot;movie&quot;:&quot;10086&quot;,&quot;title&quot;:&quot;미션&quot;,&quot;title_eng&quot;:&quot;The Mission , 1986&quot;,&quot;year&quot;:2019,&quot;grade&quot;:&quot;12세 관람가&quot;,&quot;tim...</td></tr>\n",
       "<tr><td>10085</td><td>{&quot;movie&quot;:&quot;10085&quot;,&quot;title&quot;:&quot;폴리스 아카데미 6&quot;,&quot;title_eng&quot;:&quot;Police Academy 6: City Under Siege , 1989&quot;,&quot;ye...</td></tr>\n",
       "<tr><td>10084</td><td>{&quot;movie&quot;:&quot;10084&quot;,&quot;title&quot;:&quot;폴리스 아카데미 5 - 마이애미 비치 임무&quot;,&quot;title_eng&quot;:&quot;Police Academy 5: Assignment Miam...</td></tr>\n",
       "<tr><td>10083</td><td>{&quot;movie&quot;:&quot;10083&quot;,&quot;title&quot;:&quot;폴리스 아카데미 4 - 시민 순찰대&quot;,&quot;title_eng&quot;:&quot;Police Academy 4: Citizens On Patrol ...</td></tr>\n",
       "<tr><td>10082</td><td>{&quot;movie&quot;:&quot;10082&quot;,&quot;title&quot;:&quot;폴리스 아카데미 3 - 재훈련&quot;,&quot;title_eng&quot;:&quot;Police Academy 3: Back In Training , 198...</td></tr>\n",
       "<tr><td>10081</td><td>{&quot;movie&quot;:&quot;10081&quot;,&quot;title&quot;:&quot;폴리스 아카데미 2 - 첫임무&quot;,&quot;title_eng&quot;:&quot;Police Academy 2: Their First Assignment...</td></tr>\n",
       "<tr><td>10080</td><td>{&quot;movie&quot;:&quot;10080&quot;,&quot;title&quot;:&quot;폴리스 아카데미&quot;,&quot;title_eng&quot;:&quot;Police Academy , 1984&quot;,&quot;year&quot;:1985,&quot;grade&quot;:&quot;R&quot;,&quot;...</td></tr>\n",
       "</table>\n",
       "only showing top 20 rows\n"
      ],
      "text/plain": [
       "+-----+-------------------------------------------------------------------------------------------------------------------+\n",
       "|  key|                                                                                                              value|\n",
       "+-----+-------------------------------------------------------------------------------------------------------------------+\n",
       "|10099|            {\"movie\":\"10099\",\"title\":\"남과 여\",\"title_eng\":\"Un Homme Et Une Femme , A Man And A Woman , 1966\",\"y...|\n",
       "|10098|          {\"movie\":\"10098\",\"title\":\"자유의 댄스\",\"title_eng\":\"Footloose , 1984\",\"year\":0,\"grade\":\"PG\",\"timestamp...|\n",
       "|10097|         {\"movie\":\"10097\",\"title\":\"굿모닝 베트남\",\"title_eng\":\"Good Morning, Vietnam , 1987\",\"year\":0,\"grade\":\"1...|\n",
       "|10096|        {\"movie\":\"10096\",\"title\":\"고스트버스터즈 2\",\"title_eng\":\"Ghostbusters II , 1989\",\"year\":1990,\"grade\":\"PG...|\n",
       "|10095|    {\"movie\":\"10095\",\"title\":\"고스트버스터즈\",\"title_eng\":\"Ghostbusters , 1984\",\"year\":1984,\"grade\":\"12세 관람가...|\n",
       "|10094|           {\"movie\":\"10094\",\"title\":\"마이 웨이\",\"title_eng\":\"The Winners , My Way , 1975\",\"year\":1979,\"grade\":\"N...|\n",
       "|10093|      {\"movie\":\"10093\",\"title\":\"러브 스토리\",\"title_eng\":\"Love Story , 1970\",\"year\":1971,\"grade\":\"15세 관람가\",\"...|\n",
       "|10092|        {\"movie\":\"10092\",\"title\":\"네버엔딩 스토리\",\"title_eng\":\"The NeverEnding Story , 1984\",\"year\":1988,\"grade...|\n",
       "|10091|         {\"movie\":\"10091\",\"title\":\"네 멋대로 해라\",\"title_eng\":\"A Bout De Souffle , Breathless , 1959\",\"year\":0,...|\n",
       "|10090|             {\"movie\":\"10090\",\"title\":\"챔프\",\"title_eng\":\"The Champ , 1979\",\"year\":1979,\"grade\":\"NR\",\"timestamp\"...|\n",
       "|10089|        {\"movie\":\"10089\",\"title\":\"그리스\",\"title_eng\":\"Grease , 1978\",\"year\":1980,\"grade\":\"12세 관람가\",\"timesta...|\n",
       "|10088|      {\"movie\":\"10088\",\"title\":\"파이어폭스\",\"title_eng\":\"Firefox , 1982\",\"year\":1983,\"grade\":\"12세 관람가\",\"time...|\n",
       "|10087|        {\"movie\":\"10087\",\"title\":\"토요일 밤의 열기\",\"title_eng\":\"Saturday Night Fever , 1977\",\"year\":1978,\"grade...|\n",
       "|10086|         {\"movie\":\"10086\",\"title\":\"미션\",\"title_eng\":\"The Mission , 1986\",\"year\":2019,\"grade\":\"12세 관람가\",\"tim...|\n",
       "|10085|        {\"movie\":\"10085\",\"title\":\"폴리스 아카데미 6\",\"title_eng\":\"Police Academy 6: City Under Siege , 1989\",\"ye...|\n",
       "|10084|{\"movie\":\"10084\",\"title\":\"폴리스 아카데미 5 - 마이애미 비치 임무\",\"title_eng\":\"Police Academy 5: Assignment Miam...|\n",
       "|10083|   {\"movie\":\"10083\",\"title\":\"폴리스 아카데미 4 - 시민 순찰대\",\"title_eng\":\"Police Academy 4: Citizens On Patrol ...|\n",
       "|10082|     {\"movie\":\"10082\",\"title\":\"폴리스 아카데미 3 - 재훈련\",\"title_eng\":\"Police Academy 3: Back In Training , 198...|\n",
       "|10081|     {\"movie\":\"10081\",\"title\":\"폴리스 아카데미 2 - 첫임무\",\"title_eng\":\"Police Academy 2: Their First Assignment...|\n",
       "|10080|        {\"movie\":\"10080\",\"title\":\"폴리스 아카데미\",\"title_eng\":\"Police Academy , 1984\",\"year\":1985,\"grade\":\"R\",\"...|\n",
       "+-----+-------------------------------------------------------------------------------------------------------------------+\n",
       "only showing top 20 rows"
      ]
     },
     "metadata": {},
     "output_type": "display_data"
    }
   ],
   "source": [
    "kafkaTrigger = (\n",
    "    kafkaWriter\n",
    "    .trigger(processingTime=\"5 second\")\n",
    "    .option(\"checkpointLocation\", checkpointLocation)\n",
    ")\n",
    "\n",
    "# 파이썬의 경우 콘솔 디버깅이 노트북 표준출력으로 나오기 때문에, 별도 메모리 테이블로 조회\n",
    "kafkaQuery = kafkaTrigger.start()\n",
    "displayStream(queryName, f\"select * from {queryName} order by key desc\", 3, 3)\n",
    "kafkaQuery.stop()"
   ]
  },
  {
   "cell_type": "code",
   "execution_count": null,
   "id": "423e8a5a-58f8-4c62-8dc7-b83d18d208d9",
   "metadata": {},
   "outputs": [],
   "source": []
  }
 ],
 "metadata": {
  "kernelspec": {
   "display_name": "Python 3 (ipykernel)",
   "language": "python",
   "name": "python3"
  },
  "language_info": {
   "codemirror_mode": {
    "name": "ipython",
    "version": 3
   },
   "file_extension": ".py",
   "mimetype": "text/x-python",
   "name": "python",
   "nbconvert_exporter": "python",
   "pygments_lexer": "ipython3",
   "version": "3.9.12"
  }
 },
 "nbformat": 4,
 "nbformat_minor": 5
}
